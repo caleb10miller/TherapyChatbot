{
 "cells": [
  {
   "cell_type": "code",
   "execution_count": 25,
   "metadata": {},
   "outputs": [
    {
     "name": "stderr",
     "output_type": "stream",
     "text": [
      "/opt/homebrew/lib/python3.11/site-packages/datasets/load.py:1461: FutureWarning: The repository for empathetic_dialogues contains custom code which must be executed to correctly load the dataset. You can inspect the repository content at https://hf.co/datasets/empathetic_dialogues\n",
      "You can avoid this message in future by passing the argument `trust_remote_code=True`.\n",
      "Passing `trust_remote_code=True` will be mandatory to load this dataset from the next major release of `datasets`.\n",
      "  warnings.warn(\n"
     ]
    }
   ],
   "source": [
    "from datasets import load_dataset\n",
    "import pandas as pd\n",
    "dataset = load_dataset(\"empathetic_dialogues\")"
   ]
  },
  {
   "cell_type": "code",
   "execution_count": 26,
   "metadata": {},
   "outputs": [],
   "source": [
    "train_data = dataset[\"train\"].to_pandas()\n",
    "val_data = dataset[\"validation\"].to_pandas()\n",
    "test_data = dataset[\"test\"].to_pandas()"
   ]
  },
  {
   "cell_type": "code",
   "execution_count": 31,
   "metadata": {},
   "outputs": [
    {
     "data": {
      "text/html": [
       "<div>\n",
       "<style scoped>\n",
       "    .dataframe tbody tr th:only-of-type {\n",
       "        vertical-align: middle;\n",
       "    }\n",
       "\n",
       "    .dataframe tbody tr th {\n",
       "        vertical-align: top;\n",
       "    }\n",
       "\n",
       "    .dataframe thead th {\n",
       "        text-align: right;\n",
       "    }\n",
       "</style>\n",
       "<table border=\"1\" class=\"dataframe\">\n",
       "  <thead>\n",
       "    <tr style=\"text-align: right;\">\n",
       "      <th></th>\n",
       "      <th>conv_id</th>\n",
       "      <th>utterance_idx</th>\n",
       "      <th>context</th>\n",
       "      <th>prompt</th>\n",
       "      <th>speaker_idx</th>\n",
       "      <th>utterance</th>\n",
       "      <th>selfeval</th>\n",
       "      <th>tags</th>\n",
       "    </tr>\n",
       "  </thead>\n",
       "  <tbody>\n",
       "    <tr>\n",
       "      <th>0</th>\n",
       "      <td>hit:0_conv:1</td>\n",
       "      <td>1</td>\n",
       "      <td>sentimental</td>\n",
       "      <td>I remember going to the fireworks with my best...</td>\n",
       "      <td>1</td>\n",
       "      <td>I remember going to see the fireworks with my ...</td>\n",
       "      <td>5|5|5_2|2|5</td>\n",
       "      <td></td>\n",
       "    </tr>\n",
       "    <tr>\n",
       "      <th>1</th>\n",
       "      <td>hit:0_conv:1</td>\n",
       "      <td>2</td>\n",
       "      <td>sentimental</td>\n",
       "      <td>I remember going to the fireworks with my best...</td>\n",
       "      <td>0</td>\n",
       "      <td>Was this a friend you were in love with_comma_...</td>\n",
       "      <td>5|5|5_2|2|5</td>\n",
       "      <td></td>\n",
       "    </tr>\n",
       "    <tr>\n",
       "      <th>2</th>\n",
       "      <td>hit:0_conv:1</td>\n",
       "      <td>3</td>\n",
       "      <td>sentimental</td>\n",
       "      <td>I remember going to the fireworks with my best...</td>\n",
       "      <td>1</td>\n",
       "      <td>This was a best friend. I miss her.</td>\n",
       "      <td>5|5|5_2|2|5</td>\n",
       "      <td></td>\n",
       "    </tr>\n",
       "  </tbody>\n",
       "</table>\n",
       "</div>"
      ],
      "text/plain": [
       "        conv_id  utterance_idx      context  \\\n",
       "0  hit:0_conv:1              1  sentimental   \n",
       "1  hit:0_conv:1              2  sentimental   \n",
       "2  hit:0_conv:1              3  sentimental   \n",
       "\n",
       "                                              prompt  speaker_idx  \\\n",
       "0  I remember going to the fireworks with my best...            1   \n",
       "1  I remember going to the fireworks with my best...            0   \n",
       "2  I remember going to the fireworks with my best...            1   \n",
       "\n",
       "                                           utterance     selfeval tags  \n",
       "0  I remember going to see the fireworks with my ...  5|5|5_2|2|5       \n",
       "1  Was this a friend you were in love with_comma_...  5|5|5_2|2|5       \n",
       "2                This was a best friend. I miss her.  5|5|5_2|2|5       "
      ]
     },
     "execution_count": 31,
     "metadata": {},
     "output_type": "execute_result"
    }
   ],
   "source": [
    "train_data.head(3)"
   ]
  },
  {
   "cell_type": "code",
   "execution_count": 32,
   "metadata": {},
   "outputs": [
    {
     "data": {
      "text/html": [
       "<div>\n",
       "<style scoped>\n",
       "    .dataframe tbody tr th:only-of-type {\n",
       "        vertical-align: middle;\n",
       "    }\n",
       "\n",
       "    .dataframe tbody tr th {\n",
       "        vertical-align: top;\n",
       "    }\n",
       "\n",
       "    .dataframe thead th {\n",
       "        text-align: right;\n",
       "    }\n",
       "</style>\n",
       "<table border=\"1\" class=\"dataframe\">\n",
       "  <thead>\n",
       "    <tr style=\"text-align: right;\">\n",
       "      <th></th>\n",
       "      <th>conv_id</th>\n",
       "      <th>utterance_idx</th>\n",
       "      <th>context</th>\n",
       "      <th>prompt</th>\n",
       "      <th>speaker_idx</th>\n",
       "      <th>utterance</th>\n",
       "      <th>selfeval</th>\n",
       "      <th>tags</th>\n",
       "    </tr>\n",
       "  </thead>\n",
       "  <tbody>\n",
       "    <tr>\n",
       "      <th>0</th>\n",
       "      <td>hit:0_conv:0</td>\n",
       "      <td>1</td>\n",
       "      <td>guilty</td>\n",
       "      <td>I felt guilty when I was driving home one nigh...</td>\n",
       "      <td>0</td>\n",
       "      <td>Yeah about 10 years ago I had a horrifying exp...</td>\n",
       "      <td>2|2|5_5|5|5</td>\n",
       "      <td></td>\n",
       "    </tr>\n",
       "    <tr>\n",
       "      <th>1</th>\n",
       "      <td>hit:0_conv:0</td>\n",
       "      <td>2</td>\n",
       "      <td>guilty</td>\n",
       "      <td>I felt guilty when I was driving home one nigh...</td>\n",
       "      <td>1</td>\n",
       "      <td>Did you suffer any injuries?</td>\n",
       "      <td>2|2|5_5|5|5</td>\n",
       "      <td></td>\n",
       "    </tr>\n",
       "    <tr>\n",
       "      <th>2</th>\n",
       "      <td>hit:0_conv:0</td>\n",
       "      <td>3</td>\n",
       "      <td>guilty</td>\n",
       "      <td>I felt guilty when I was driving home one nigh...</td>\n",
       "      <td>0</td>\n",
       "      <td>No I wasn't hit. It turned out they were drunk...</td>\n",
       "      <td>2|2|5_5|5|5</td>\n",
       "      <td></td>\n",
       "    </tr>\n",
       "  </tbody>\n",
       "</table>\n",
       "</div>"
      ],
      "text/plain": [
       "        conv_id  utterance_idx context  \\\n",
       "0  hit:0_conv:0              1  guilty   \n",
       "1  hit:0_conv:0              2  guilty   \n",
       "2  hit:0_conv:0              3  guilty   \n",
       "\n",
       "                                              prompt  speaker_idx  \\\n",
       "0  I felt guilty when I was driving home one nigh...            0   \n",
       "1  I felt guilty when I was driving home one nigh...            1   \n",
       "2  I felt guilty when I was driving home one nigh...            0   \n",
       "\n",
       "                                           utterance     selfeval tags  \n",
       "0  Yeah about 10 years ago I had a horrifying exp...  2|2|5_5|5|5       \n",
       "1                       Did you suffer any injuries?  2|2|5_5|5|5       \n",
       "2  No I wasn't hit. It turned out they were drunk...  2|2|5_5|5|5       "
      ]
     },
     "execution_count": 32,
     "metadata": {},
     "output_type": "execute_result"
    }
   ],
   "source": [
    "test_data.head(3)"
   ]
  },
  {
   "cell_type": "code",
   "execution_count": 33,
   "metadata": {},
   "outputs": [
    {
     "data": {
      "text/html": [
       "<div>\n",
       "<style scoped>\n",
       "    .dataframe tbody tr th:only-of-type {\n",
       "        vertical-align: middle;\n",
       "    }\n",
       "\n",
       "    .dataframe tbody tr th {\n",
       "        vertical-align: top;\n",
       "    }\n",
       "\n",
       "    .dataframe thead th {\n",
       "        text-align: right;\n",
       "    }\n",
       "</style>\n",
       "<table border=\"1\" class=\"dataframe\">\n",
       "  <thead>\n",
       "    <tr style=\"text-align: right;\">\n",
       "      <th></th>\n",
       "      <th>conv_id</th>\n",
       "      <th>utterance_idx</th>\n",
       "      <th>context</th>\n",
       "      <th>prompt</th>\n",
       "      <th>speaker_idx</th>\n",
       "      <th>utterance</th>\n",
       "      <th>selfeval</th>\n",
       "      <th>tags</th>\n",
       "    </tr>\n",
       "  </thead>\n",
       "  <tbody>\n",
       "    <tr>\n",
       "      <th>0</th>\n",
       "      <td>hit:3_conv:6</td>\n",
       "      <td>1</td>\n",
       "      <td>terrified</td>\n",
       "      <td>Today_comma_as i was leaving for work in the m...</td>\n",
       "      <td>6</td>\n",
       "      <td>Today_comma_as i was leaving for work in the m...</td>\n",
       "      <td>4|5|5_5|5|5</td>\n",
       "      <td></td>\n",
       "    </tr>\n",
       "    <tr>\n",
       "      <th>1</th>\n",
       "      <td>hit:3_conv:6</td>\n",
       "      <td>2</td>\n",
       "      <td>terrified</td>\n",
       "      <td>Today_comma_as i was leaving for work in the m...</td>\n",
       "      <td>7</td>\n",
       "      <td>Are you fine now?</td>\n",
       "      <td>4|5|5_5|5|5</td>\n",
       "      <td></td>\n",
       "    </tr>\n",
       "    <tr>\n",
       "      <th>2</th>\n",
       "      <td>hit:3_conv:6</td>\n",
       "      <td>3</td>\n",
       "      <td>terrified</td>\n",
       "      <td>Today_comma_as i was leaving for work in the m...</td>\n",
       "      <td>6</td>\n",
       "      <td>Yeah_comma_i'm doing alright now_comma_ but wi...</td>\n",
       "      <td>4|5|5_5|5|5</td>\n",
       "      <td></td>\n",
       "    </tr>\n",
       "  </tbody>\n",
       "</table>\n",
       "</div>"
      ],
      "text/plain": [
       "        conv_id  utterance_idx    context  \\\n",
       "0  hit:3_conv:6              1  terrified   \n",
       "1  hit:3_conv:6              2  terrified   \n",
       "2  hit:3_conv:6              3  terrified   \n",
       "\n",
       "                                              prompt  speaker_idx  \\\n",
       "0  Today_comma_as i was leaving for work in the m...            6   \n",
       "1  Today_comma_as i was leaving for work in the m...            7   \n",
       "2  Today_comma_as i was leaving for work in the m...            6   \n",
       "\n",
       "                                           utterance     selfeval tags  \n",
       "0  Today_comma_as i was leaving for work in the m...  4|5|5_5|5|5       \n",
       "1                                  Are you fine now?  4|5|5_5|5|5       \n",
       "2  Yeah_comma_i'm doing alright now_comma_ but wi...  4|5|5_5|5|5       "
      ]
     },
     "execution_count": 33,
     "metadata": {},
     "output_type": "execute_result"
    }
   ],
   "source": [
    "val_data.head(3)"
   ]
  },
  {
   "cell_type": "code",
   "execution_count": 35,
   "metadata": {},
   "outputs": [
    {
     "data": {
      "text/plain": [
       "context\n",
       "surprised       3956\n",
       "excited         2935\n",
       "angry           2740\n",
       "proud           2719\n",
       "annoyed         2642\n",
       "sad             2634\n",
       "afraid          2511\n",
       "lonely          2503\n",
       "terrified       2488\n",
       "grateful        2487\n",
       "guilty          2463\n",
       "anxious         2456\n",
       "disgusted       2447\n",
       "confident       2440\n",
       "anticipating    2439\n",
       "hopeful         2404\n",
       "furious         2394\n",
       "impressed       2381\n",
       "disappointed    2356\n",
       "nostalgic       2350\n",
       "joyful          2346\n",
       "jealous         2329\n",
       "prepared        2292\n",
       "content         2215\n",
       "devastated      2192\n",
       "embarrassed     2191\n",
       "sentimental     2073\n",
       "caring          2054\n",
       "trusting        2002\n",
       "ashamed         1976\n",
       "apprehensive    1822\n",
       "faithful        1436\n",
       "Name: count, dtype: int64"
      ]
     },
     "execution_count": 35,
     "metadata": {},
     "output_type": "execute_result"
    }
   ],
   "source": [
    "train_data['context'].value_counts()"
   ]
  },
  {
   "cell_type": "code",
   "execution_count": 36,
   "metadata": {},
   "outputs": [],
   "source": [
    "train_data.to_csv('data/train_data.csv', index=False)\n",
    "test_data.to_csv('data/test_data.csv', index=False)\n",
    "val_data.to_csv('data/val_data.csv', index=False)"
   ]
  }
 ],
 "metadata": {
  "kernelspec": {
   "display_name": "Python 3",
   "language": "python",
   "name": "python3"
  },
  "language_info": {
   "codemirror_mode": {
    "name": "ipython",
    "version": 3
   },
   "file_extension": ".py",
   "mimetype": "text/x-python",
   "name": "python",
   "nbconvert_exporter": "python",
   "pygments_lexer": "ipython3",
   "version": "3.11.2"
  }
 },
 "nbformat": 4,
 "nbformat_minor": 2
}
